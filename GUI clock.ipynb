{
 "cells": [
  {
   "cell_type": "code",
   "execution_count": null,
   "id": "brutal-moore",
   "metadata": {},
   "outputs": [
    {
     "name": "stdout",
     "output_type": "stream",
     "text": [
      "Enter your colourblue\n",
      "input your colourwhite\n"
     ]
    }
   ],
   "source": [
    "import time\n",
    "import tkinter as tk\n",
    "from tkinter import *\n",
    "background_colour=input(\"Enter your colour\")\n",
    "colour=input(\"input your colour\")\n",
    "def tick(time1='top'):\n",
    "    time2=time.strftime(\"%I:%M:%S\")\n",
    "    clock_frame.config(text=time2)\n",
    "    clock_frame.after(20,tick)\n",
    "def Fajar_Namaz ():\n",
    "    Fajar.config(text=\"05:30 Fajar\")\n",
    "def Duhar_Namaz (): \n",
    "    Duhar.config(text=\"01:30 Duhar\") \n",
    "def Asar_Namaz ():\n",
    "    Asar.config (text=\"5:15 Asar\")\n",
    "def Magrib_Namaz ():\n",
    "    Magrib.config (text=\"7:00 Magrib\")\n",
    "def Esha_Namaz ():\n",
    "    Esha.config (text=\"8:20 Esha\")\n",
    "def Jummah_Namaz (): \n",
    "    Jummah.config (text=\"1:30 Jummah\")  \n",
    "root=tk.Tk()        \n",
    "clock_frame=tk.Label(root,font=('arial 100 bold'),bg=background_colour,fg=colour)\n",
    "\n",
    "clock_frame.pack(fill='both',expand=1)\n",
    "\n",
    "Fajar=tk.Label(root,font=('arial 50 bold'),bg=background_colour,anchor='n',fg=colour)\n",
    "\n",
    "Fajar.pack(fill=X)\n",
    "\n",
    "Duhar=tk.Label(root,font=('arial 50 bold'),bg=background_colour,anchor='n',fg=colour)\n",
    "\n",
    "Duhar.pack(fill=X)\n",
    "\n",
    "Asar=tk.Label(root,font=('arial 50 bold'),bg=background_colour,anchor='n',fg=colour)\n",
    "\n",
    "Asar.pack(fill=X)\n",
    "\n",
    "Magrib=tk.Label(root,font=('arial 50 bold'),bg=background_colour,anchor='n',fg=colour)\n",
    "\n",
    "Magrib.pack(fill=X)\n",
    "\n",
    "Esha=tk.Label(root,font=('arial 50 bold'),bg=background_colour,anchor='n',fg=colour)\n",
    "\n",
    "Esha.pack(fill=X)\n",
    "\n",
    "Jummah=tk.Label(root,font=('arial 50 bold'),bg=background_colour,anchor='n',fg=colour)\n",
    "\n",
    "Jummah.pack(fill=X)\n",
    "\n",
    "root.geometry(\"400x400\")\n",
    "root.configure(background=\"lightgreen\")\n",
    "tick()\n",
    "Fajar_Namaz()\n",
    "Duhar_Namaz()\n",
    "Asar_Namaz()\n",
    "Magrib_Namaz()\n",
    "Esha_Namaz()\n",
    "Jummah_Namaz()\n",
    "\n",
    "root.mainloop()"
   ]
  },
  {
   "cell_type": "code",
   "execution_count": null,
   "id": "verbal-member",
   "metadata": {},
   "outputs": [],
   "source": []
  }
 ],
 "metadata": {
  "kernelspec": {
   "display_name": "Python 3",
   "language": "python",
   "name": "python3"
  },
  "language_info": {
   "codemirror_mode": {
    "name": "ipython",
    "version": 3
   },
   "file_extension": ".py",
   "mimetype": "text/x-python",
   "name": "python",
   "nbconvert_exporter": "python",
   "pygments_lexer": "ipython3",
   "version": "3.8.7"
  }
 },
 "nbformat": 4,
 "nbformat_minor": 5
}
